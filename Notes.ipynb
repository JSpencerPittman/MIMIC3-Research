{
 "cells": [
  {
   "cell_type": "code",
   "execution_count": 309,
   "id": "d48b4fb1-3ad4-41da-aaa8-c3d04b7ad0ab",
   "metadata": {},
   "outputs": [],
   "source": [
    "import pandas as pd\n",
    "import numpy as np\n",
    "import re"
   ]
  },
  {
   "cell_type": "code",
   "execution_count": 266,
   "id": "beca976f-2bea-4f9d-85ea-5123e304797c",
   "metadata": {
    "scrolled": true
   },
   "outputs": [
    {
     "name": "stderr",
     "output_type": "stream",
     "text": [
      "C:\\Users\\Jason\\AppData\\Local\\Temp\\ipykernel_21136\\2856085482.py:1: DtypeWarning: Columns (4,5) have mixed types. Specify dtype option on import or set low_memory=False.\n",
      "  notes = pd.read_csv('NOTEEVENTS.csv')\n"
     ]
    }
   ],
   "source": [
    "notes = pd.read_csv('NOTEEVENTS.csv')"
   ]
  },
  {
   "cell_type": "code",
   "execution_count": 269,
   "id": "25bc4fb4-bb1a-4864-b353-429f422c8987",
   "metadata": {},
   "outputs": [],
   "source": [
    "rel_cats = ['SUBJECT_ID','HADM_ID','CHARTDATE','CHARTTIME','CATEGORY','TEXT']\n",
    "notes = notes[rel_cats]\n",
    "# Why have notes if they have no text\n",
    "notes.dropna(subset=['TEXT'], inplace=True)\n",
    "# Make it friendly for datetime comparisons later on\n",
    "notes.CHARTDATE = notes.CHARTDATE.astype('datetime64[ns]')\n",
    "notes.CHARTTIME = notes.CHARTTIME.astype('datetime64[ns]')"
   ]
  },
  {
   "cell_type": "code",
   "execution_count": 270,
   "id": "143da9ce-3b0c-4912-a815-1c423df60cc9",
   "metadata": {},
   "outputs": [],
   "source": [
    "notes.set_index(['SUBJECT_ID','HADM_ID'], inplace=True)"
   ]
  },
  {
   "cell_type": "code",
   "execution_count": 271,
   "id": "3847a558-395b-41d3-9c37-99ea85485048",
   "metadata": {},
   "outputs": [
    {
     "name": "stdout",
     "output_type": "stream",
     "text": [
      "<class 'pandas.core.frame.DataFrame'>\n",
      "MultiIndex: 2083180 entries, (22532, 167853.0) to (31097, 115637.0)\n",
      "Data columns (total 4 columns):\n",
      " #   Column     Dtype         \n",
      "---  ------     -----         \n",
      " 0   CHARTDATE  datetime64[ns]\n",
      " 1   CHARTTIME  datetime64[ns]\n",
      " 2   CATEGORY   object        \n",
      " 3   TEXT       object        \n",
      "dtypes: datetime64[ns](2), object(2)\n",
      "memory usage: 83.3+ MB\n"
     ]
    }
   ],
   "source": [
    "notes.info()"
   ]
  },
  {
   "cell_type": "code",
   "execution_count": 272,
   "id": "0c89dfcd-c858-4da5-9f4a-7880a72430c2",
   "metadata": {},
   "outputs": [
    {
     "data": {
      "text/html": [
       "<div>\n",
       "<style scoped>\n",
       "    .dataframe tbody tr th:only-of-type {\n",
       "        vertical-align: middle;\n",
       "    }\n",
       "\n",
       "    .dataframe tbody tr th {\n",
       "        vertical-align: top;\n",
       "    }\n",
       "\n",
       "    .dataframe thead th {\n",
       "        text-align: right;\n",
       "    }\n",
       "</style>\n",
       "<table border=\"1\" class=\"dataframe\">\n",
       "  <thead>\n",
       "    <tr style=\"text-align: right;\">\n",
       "      <th></th>\n",
       "      <th></th>\n",
       "      <th>CHARTDATE</th>\n",
       "      <th>CHARTTIME</th>\n",
       "      <th>CATEGORY</th>\n",
       "      <th>TEXT</th>\n",
       "    </tr>\n",
       "    <tr>\n",
       "      <th>SUBJECT_ID</th>\n",
       "      <th>HADM_ID</th>\n",
       "      <th></th>\n",
       "      <th></th>\n",
       "      <th></th>\n",
       "      <th></th>\n",
       "    </tr>\n",
       "  </thead>\n",
       "  <tbody>\n",
       "    <tr>\n",
       "      <th>22532</th>\n",
       "      <th>167853.0</th>\n",
       "      <td>2151-08-04</td>\n",
       "      <td>NaT</td>\n",
       "      <td>Discharge summary</td>\n",
       "      <td>Admission Date:  [**2151-7-16**]       Dischar...</td>\n",
       "    </tr>\n",
       "    <tr>\n",
       "      <th rowspan=\"3\" valign=\"top\">13702</th>\n",
       "      <th>107527.0</th>\n",
       "      <td>2118-06-14</td>\n",
       "      <td>NaT</td>\n",
       "      <td>Discharge summary</td>\n",
       "      <td>Admission Date:  [**2118-6-2**]       Discharg...</td>\n",
       "    </tr>\n",
       "    <tr>\n",
       "      <th>167118.0</th>\n",
       "      <td>2119-05-25</td>\n",
       "      <td>NaT</td>\n",
       "      <td>Discharge summary</td>\n",
       "      <td>Admission Date:  [**2119-5-4**]              D...</td>\n",
       "    </tr>\n",
       "    <tr>\n",
       "      <th>196489.0</th>\n",
       "      <td>2124-08-18</td>\n",
       "      <td>NaT</td>\n",
       "      <td>Discharge summary</td>\n",
       "      <td>Admission Date:  [**2124-7-21**]              ...</td>\n",
       "    </tr>\n",
       "    <tr>\n",
       "      <th>26880</th>\n",
       "      <th>135453.0</th>\n",
       "      <td>2162-03-25</td>\n",
       "      <td>NaT</td>\n",
       "      <td>Discharge summary</td>\n",
       "      <td>Admission Date:  [**2162-3-3**]              D...</td>\n",
       "    </tr>\n",
       "  </tbody>\n",
       "</table>\n",
       "</div>"
      ],
      "text/plain": [
       "                     CHARTDATE CHARTTIME           CATEGORY  \\\n",
       "SUBJECT_ID HADM_ID                                            \n",
       "22532      167853.0 2151-08-04       NaT  Discharge summary   \n",
       "13702      107527.0 2118-06-14       NaT  Discharge summary   \n",
       "           167118.0 2119-05-25       NaT  Discharge summary   \n",
       "           196489.0 2124-08-18       NaT  Discharge summary   \n",
       "26880      135453.0 2162-03-25       NaT  Discharge summary   \n",
       "\n",
       "                                                                  TEXT  \n",
       "SUBJECT_ID HADM_ID                                                      \n",
       "22532      167853.0  Admission Date:  [**2151-7-16**]       Dischar...  \n",
       "13702      107527.0  Admission Date:  [**2118-6-2**]       Discharg...  \n",
       "           167118.0  Admission Date:  [**2119-5-4**]              D...  \n",
       "           196489.0  Admission Date:  [**2124-7-21**]              ...  \n",
       "26880      135453.0  Admission Date:  [**2162-3-3**]              D...  "
      ]
     },
     "execution_count": 272,
     "metadata": {},
     "output_type": "execute_result"
    }
   ],
   "source": [
    "notes.head()"
   ]
  },
  {
   "cell_type": "markdown",
   "id": "fcd68286-52cd-4d0d-95a9-0062675fd254",
   "metadata": {},
   "source": [
    "### Clean up and trim categories"
   ]
  },
  {
   "cell_type": "markdown",
   "id": "a3e8eb22-ab12-4f5f-bb81-a47b96289b4c",
   "metadata": {},
   "source": [
    "Clean up category names"
   ]
  },
  {
   "cell_type": "code",
   "execution_count": 273,
   "id": "2d642016-abdc-4471-a4c9-152d8d21479a",
   "metadata": {},
   "outputs": [],
   "source": [
    "notes.loc[notes.CATEGORY == 'Discharge summary', 'CATEGORY'] = 'Discharge'\n",
    "notes.loc[notes.CATEGORY == 'Physician ', 'CATEGORY'] = 'Physician'\n",
    "notes.loc[notes.CATEGORY == 'Respiratory ', 'CATEGORY'] = 'Respiratory'"
   ]
  },
  {
   "cell_type": "markdown",
   "id": "80ac4a75-e700-4e05-ab0e-742558b89d24",
   "metadata": {},
   "source": [
    "Select common categories"
   ]
  },
  {
   "cell_type": "code",
   "execution_count": 274,
   "id": "94bd9a03-6c0b-4498-add6-5afc7e9120f5",
   "metadata": {},
   "outputs": [],
   "source": [
    "relevant_cats = [\"Discharge\",\"Nursing/other\",\"Radiology\",\"Nursing\",\"ECG\",\"Physician\",\"Echo\",\"Respiratory\",\"Nutrition\",\"General\"]\n",
    "notes = notes.loc[notes.CATEGORY.map(lambda x: x in relevant_cats)]"
   ]
  },
  {
   "cell_type": "markdown",
   "id": "e6a71b37-18d9-4d46-9d78-451e3bd037e8",
   "metadata": {},
   "source": [
    "## Add ICUSTAY_ID to notes"
   ]
  },
  {
   "cell_type": "code",
   "execution_count": 275,
   "id": "88656065-3ed7-4d53-9948-c7740f2fef22",
   "metadata": {},
   "outputs": [],
   "source": [
    "# Load in dataframe\n",
    "icustays = pd.read_csv('ICUSTAYS.csv')\n",
    "# Convert from 'object' to 'datetime'\n",
    "icustays.INTIME = icustays.INTIME.astype('datetime64[ns]')\n",
    "icustays.OUTTIME = icustays.OUTTIME.astype('datetime64[ns]')\n",
    "# Create date columns in case row in question doesn't have a 'CHARTTIME' for comparison\n",
    "icustays['INDATE'] = icustays.INTIME.dt.date.astype('datetime64[ns]')\n",
    "icustays['OUTDATE'] = icustays.OUTTIME.dt.date.astype('datetime64[ns]')\n",
    "# Select only the first ICU stay for a patient across all admissions\n",
    "icustays = icustays.sort_values(by='INTIME').groupby(['SUBJECT_ID']).first()\n",
    "# Select the minimal information needed to match ICU stays to clinical notes\n",
    "icustays = icustays[[\"HADM_ID\",\"ICUSTAY_ID\",\"INTIME\",\"INDATE\",\"OUTTIME\",\"OUTDATE\"]]\n",
    "# Impossible to verify notes belong to an ICU stay without a time\n",
    "icustays.dropna(subset=['INTIME','OUTTIME'], inplace=True)\n",
    "# Each index is a single patient's first ICU visit (we removed multiple ICU visits)\n",
    "icustays.reset_index(inplace=True)\n",
    "icustays.set_index(['SUBJECT_ID','HADM_ID','ICUSTAY_ID'], inplace=True)"
   ]
  },
  {
   "cell_type": "code",
   "execution_count": 276,
   "id": "e98792e6-bbb8-4189-b3e9-5258169e042c",
   "metadata": {},
   "outputs": [
    {
     "name": "stdout",
     "output_type": "stream",
     "text": [
      "<class 'pandas.core.frame.DataFrame'>\n",
      "MultiIndex: 46467 entries, (2, 163353, 243653) to (99999, 113369, 246512)\n",
      "Data columns (total 4 columns):\n",
      " #   Column   Non-Null Count  Dtype         \n",
      "---  ------   --------------  -----         \n",
      " 0   INTIME   46467 non-null  datetime64[ns]\n",
      " 1   INDATE   46467 non-null  datetime64[ns]\n",
      " 2   OUTTIME  46467 non-null  datetime64[ns]\n",
      " 3   OUTDATE  46467 non-null  datetime64[ns]\n",
      "dtypes: datetime64[ns](4)\n",
      "memory usage: 6.0 MB\n"
     ]
    }
   ],
   "source": [
    "icustays.info()"
   ]
  },
  {
   "cell_type": "code",
   "execution_count": 277,
   "id": "1f4ae908-5eb4-43c5-8081-545a3977bd54",
   "metadata": {},
   "outputs": [
    {
     "data": {
      "text/html": [
       "<div>\n",
       "<style scoped>\n",
       "    .dataframe tbody tr th:only-of-type {\n",
       "        vertical-align: middle;\n",
       "    }\n",
       "\n",
       "    .dataframe tbody tr th {\n",
       "        vertical-align: top;\n",
       "    }\n",
       "\n",
       "    .dataframe thead th {\n",
       "        text-align: right;\n",
       "    }\n",
       "</style>\n",
       "<table border=\"1\" class=\"dataframe\">\n",
       "  <thead>\n",
       "    <tr style=\"text-align: right;\">\n",
       "      <th></th>\n",
       "      <th></th>\n",
       "      <th></th>\n",
       "      <th>INTIME</th>\n",
       "      <th>INDATE</th>\n",
       "      <th>OUTTIME</th>\n",
       "      <th>OUTDATE</th>\n",
       "    </tr>\n",
       "    <tr>\n",
       "      <th>SUBJECT_ID</th>\n",
       "      <th>HADM_ID</th>\n",
       "      <th>ICUSTAY_ID</th>\n",
       "      <th></th>\n",
       "      <th></th>\n",
       "      <th></th>\n",
       "      <th></th>\n",
       "    </tr>\n",
       "  </thead>\n",
       "  <tbody>\n",
       "    <tr>\n",
       "      <th>2</th>\n",
       "      <th>163353</th>\n",
       "      <th>243653</th>\n",
       "      <td>2138-07-17 21:20:07</td>\n",
       "      <td>2138-07-17</td>\n",
       "      <td>2138-07-17 23:32:21</td>\n",
       "      <td>2138-07-17</td>\n",
       "    </tr>\n",
       "    <tr>\n",
       "      <th>3</th>\n",
       "      <th>145834</th>\n",
       "      <th>211552</th>\n",
       "      <td>2101-10-20 19:10:11</td>\n",
       "      <td>2101-10-20</td>\n",
       "      <td>2101-10-26 20:43:09</td>\n",
       "      <td>2101-10-26</td>\n",
       "    </tr>\n",
       "    <tr>\n",
       "      <th>4</th>\n",
       "      <th>185777</th>\n",
       "      <th>294638</th>\n",
       "      <td>2191-03-16 00:29:31</td>\n",
       "      <td>2191-03-16</td>\n",
       "      <td>2191-03-17 16:46:31</td>\n",
       "      <td>2191-03-17</td>\n",
       "    </tr>\n",
       "    <tr>\n",
       "      <th>5</th>\n",
       "      <th>178980</th>\n",
       "      <th>214757</th>\n",
       "      <td>2103-02-02 06:04:24</td>\n",
       "      <td>2103-02-02</td>\n",
       "      <td>2103-02-02 08:06:00</td>\n",
       "      <td>2103-02-02</td>\n",
       "    </tr>\n",
       "    <tr>\n",
       "      <th>6</th>\n",
       "      <th>107064</th>\n",
       "      <th>228232</th>\n",
       "      <td>2175-05-30 21:30:54</td>\n",
       "      <td>2175-05-30</td>\n",
       "      <td>2175-06-03 13:39:54</td>\n",
       "      <td>2175-06-03</td>\n",
       "    </tr>\n",
       "  </tbody>\n",
       "</table>\n",
       "</div>"
      ],
      "text/plain": [
       "                                           INTIME     INDATE  \\\n",
       "SUBJECT_ID HADM_ID ICUSTAY_ID                                  \n",
       "2          163353  243653     2138-07-17 21:20:07 2138-07-17   \n",
       "3          145834  211552     2101-10-20 19:10:11 2101-10-20   \n",
       "4          185777  294638     2191-03-16 00:29:31 2191-03-16   \n",
       "5          178980  214757     2103-02-02 06:04:24 2103-02-02   \n",
       "6          107064  228232     2175-05-30 21:30:54 2175-05-30   \n",
       "\n",
       "                                          OUTTIME    OUTDATE  \n",
       "SUBJECT_ID HADM_ID ICUSTAY_ID                                 \n",
       "2          163353  243653     2138-07-17 23:32:21 2138-07-17  \n",
       "3          145834  211552     2101-10-26 20:43:09 2101-10-26  \n",
       "4          185777  294638     2191-03-17 16:46:31 2191-03-17  \n",
       "5          178980  214757     2103-02-02 08:06:00 2103-02-02  \n",
       "6          107064  228232     2175-06-03 13:39:54 2175-06-03  "
      ]
     },
     "execution_count": 277,
     "metadata": {},
     "output_type": "execute_result"
    }
   ],
   "source": [
    "icustays.head()"
   ]
  },
  {
   "cell_type": "markdown",
   "id": "d7aa07bb-c42e-4925-897d-56139dcb548c",
   "metadata": {},
   "source": [
    "### Join to `notes`"
   ]
  },
  {
   "cell_type": "code",
   "execution_count": 298,
   "id": "0affdfd0-f29e-4722-b12a-36ccb85a25fa",
   "metadata": {},
   "outputs": [],
   "source": [
    "notes_icu = icustays.copy()\n",
    "notes_icu = notes_icu.join(notes, how='inner')"
   ]
  },
  {
   "cell_type": "markdown",
   "id": "feade09c-2bd1-4e22-b909-ff6b48eaa1f5",
   "metadata": {},
   "source": [
    "### Remove mismatched notes"
   ]
  },
  {
   "cell_type": "code",
   "execution_count": 299,
   "id": "cf9d53b6-18f5-4ae3-8a96-be284ee35039",
   "metadata": {},
   "outputs": [],
   "source": [
    "# Date comparison\n",
    "date_val = (notes_icu.CHARTDATE >= notes_icu.INDATE) & (notes_icu.CHARTDATE <= notes_icu.OUTDATE)\n",
    "# Time comparison\n",
    "time_val = (notes_icu.CHARTTIME >= notes_icu.INTIME) & (notes_icu.CHARTTIME <= notes_icu.OUTTIME)\n",
    "# Valid?\n",
    "datetime_val = (notes_icu.CHARTTIME.isna() & date_val) | (~notes_icu.CHARTTIME.isna() & time_val) \n",
    "# Filter rows\n",
    "notes_icu = notes_icu.loc[datetime_val]"
   ]
  },
  {
   "cell_type": "code",
   "execution_count": 300,
   "id": "f3617a85-34dd-45ad-bdbd-a2d5dd7ee358",
   "metadata": {},
   "outputs": [
    {
     "data": {
      "text/html": [
       "<div>\n",
       "<style scoped>\n",
       "    .dataframe tbody tr th:only-of-type {\n",
       "        vertical-align: middle;\n",
       "    }\n",
       "\n",
       "    .dataframe tbody tr th {\n",
       "        vertical-align: top;\n",
       "    }\n",
       "\n",
       "    .dataframe thead th {\n",
       "        text-align: right;\n",
       "    }\n",
       "</style>\n",
       "<table border=\"1\" class=\"dataframe\">\n",
       "  <thead>\n",
       "    <tr style=\"text-align: right;\">\n",
       "      <th></th>\n",
       "      <th></th>\n",
       "      <th></th>\n",
       "      <th>INTIME</th>\n",
       "      <th>INDATE</th>\n",
       "      <th>OUTTIME</th>\n",
       "      <th>OUTDATE</th>\n",
       "      <th>CHARTDATE</th>\n",
       "      <th>CHARTTIME</th>\n",
       "      <th>CATEGORY</th>\n",
       "      <th>TEXT</th>\n",
       "    </tr>\n",
       "    <tr>\n",
       "      <th>SUBJECT_ID</th>\n",
       "      <th>HADM_ID</th>\n",
       "      <th>ICUSTAY_ID</th>\n",
       "      <th></th>\n",
       "      <th></th>\n",
       "      <th></th>\n",
       "      <th></th>\n",
       "      <th></th>\n",
       "      <th></th>\n",
       "      <th></th>\n",
       "      <th></th>\n",
       "    </tr>\n",
       "  </thead>\n",
       "  <tbody>\n",
       "    <tr>\n",
       "      <th rowspan=\"2\" valign=\"top\">2</th>\n",
       "      <th rowspan=\"2\" valign=\"top\">163353</th>\n",
       "      <th>243653</th>\n",
       "      <td>2138-07-17 21:20:07</td>\n",
       "      <td>2138-07-17</td>\n",
       "      <td>2138-07-17 23:32:21</td>\n",
       "      <td>2138-07-17</td>\n",
       "      <td>2138-07-17</td>\n",
       "      <td>2138-07-17 23:08:00</td>\n",
       "      <td>Nursing/other</td>\n",
       "      <td>Nursing Transfer note\\n\\n\\nPt admitted to NICU...</td>\n",
       "    </tr>\n",
       "    <tr>\n",
       "      <th>243653</th>\n",
       "      <td>2138-07-17 21:20:07</td>\n",
       "      <td>2138-07-17</td>\n",
       "      <td>2138-07-17 23:32:21</td>\n",
       "      <td>2138-07-17</td>\n",
       "      <td>2138-07-17</td>\n",
       "      <td>2138-07-17 22:51:00</td>\n",
       "      <td>Nursing/other</td>\n",
       "      <td>Neonatology Attending Triage Note\\n\\nBaby [**N...</td>\n",
       "    </tr>\n",
       "    <tr>\n",
       "      <th rowspan=\"3\" valign=\"top\">3</th>\n",
       "      <th rowspan=\"3\" valign=\"top\">145834</th>\n",
       "      <th>211552</th>\n",
       "      <td>2101-10-20 19:10:11</td>\n",
       "      <td>2101-10-20</td>\n",
       "      <td>2101-10-26 20:43:09</td>\n",
       "      <td>2101-10-26</td>\n",
       "      <td>2101-10-21</td>\n",
       "      <td>NaT</td>\n",
       "      <td>Echo</td>\n",
       "      <td>PATIENT/TEST INFORMATION:\\nIndication: S/P Car...</td>\n",
       "    </tr>\n",
       "    <tr>\n",
       "      <th>211552</th>\n",
       "      <td>2101-10-20 19:10:11</td>\n",
       "      <td>2101-10-20</td>\n",
       "      <td>2101-10-26 20:43:09</td>\n",
       "      <td>2101-10-26</td>\n",
       "      <td>2101-10-21</td>\n",
       "      <td>NaT</td>\n",
       "      <td>Echo</td>\n",
       "      <td>PATIENT/TEST INFORMATION:\\nIndication: Pericar...</td>\n",
       "    </tr>\n",
       "    <tr>\n",
       "      <th>211552</th>\n",
       "      <td>2101-10-20 19:10:11</td>\n",
       "      <td>2101-10-20</td>\n",
       "      <td>2101-10-26 20:43:09</td>\n",
       "      <td>2101-10-26</td>\n",
       "      <td>2101-10-21</td>\n",
       "      <td>NaT</td>\n",
       "      <td>Echo</td>\n",
       "      <td>PATIENT/TEST INFORMATION:\\nIndication: Left ve...</td>\n",
       "    </tr>\n",
       "  </tbody>\n",
       "</table>\n",
       "</div>"
      ],
      "text/plain": [
       "                                           INTIME     INDATE  \\\n",
       "SUBJECT_ID HADM_ID ICUSTAY_ID                                  \n",
       "2          163353  243653     2138-07-17 21:20:07 2138-07-17   \n",
       "                   243653     2138-07-17 21:20:07 2138-07-17   \n",
       "3          145834  211552     2101-10-20 19:10:11 2101-10-20   \n",
       "                   211552     2101-10-20 19:10:11 2101-10-20   \n",
       "                   211552     2101-10-20 19:10:11 2101-10-20   \n",
       "\n",
       "                                          OUTTIME    OUTDATE  CHARTDATE  \\\n",
       "SUBJECT_ID HADM_ID ICUSTAY_ID                                             \n",
       "2          163353  243653     2138-07-17 23:32:21 2138-07-17 2138-07-17   \n",
       "                   243653     2138-07-17 23:32:21 2138-07-17 2138-07-17   \n",
       "3          145834  211552     2101-10-26 20:43:09 2101-10-26 2101-10-21   \n",
       "                   211552     2101-10-26 20:43:09 2101-10-26 2101-10-21   \n",
       "                   211552     2101-10-26 20:43:09 2101-10-26 2101-10-21   \n",
       "\n",
       "                                        CHARTTIME       CATEGORY  \\\n",
       "SUBJECT_ID HADM_ID ICUSTAY_ID                                      \n",
       "2          163353  243653     2138-07-17 23:08:00  Nursing/other   \n",
       "                   243653     2138-07-17 22:51:00  Nursing/other   \n",
       "3          145834  211552                     NaT           Echo   \n",
       "                   211552                     NaT           Echo   \n",
       "                   211552                     NaT           Echo   \n",
       "\n",
       "                                                                            TEXT  \n",
       "SUBJECT_ID HADM_ID ICUSTAY_ID                                                     \n",
       "2          163353  243653      Nursing Transfer note\\n\\n\\nPt admitted to NICU...  \n",
       "                   243653      Neonatology Attending Triage Note\\n\\nBaby [**N...  \n",
       "3          145834  211552      PATIENT/TEST INFORMATION:\\nIndication: S/P Car...  \n",
       "                   211552      PATIENT/TEST INFORMATION:\\nIndication: Pericar...  \n",
       "                   211552      PATIENT/TEST INFORMATION:\\nIndication: Left ve...  "
      ]
     },
     "execution_count": 300,
     "metadata": {},
     "output_type": "execute_result"
    }
   ],
   "source": [
    "notes_icu.head()"
   ]
  },
  {
   "cell_type": "code",
   "execution_count": 301,
   "id": "f0032d09-ede8-4c7a-8dbd-3617b024ac8b",
   "metadata": {},
   "outputs": [
    {
     "name": "stdout",
     "output_type": "stream",
     "text": [
      "Total remaining clinical notes: 1226805\n"
     ]
    }
   ],
   "source": [
    "print(f\"Total remaining clinical notes: {notes_icu.shape[0]}\")"
   ]
  },
  {
   "cell_type": "markdown",
   "id": "2cc0c575-32ac-43fd-b8c4-649c39869b24",
   "metadata": {},
   "source": [
    "### Match Cohorts using `df_pats`"
   ]
  },
  {
   "cell_type": "code",
   "execution_count": 302,
   "id": "2721c011-e589-4d10-9f89-b2de221b8477",
   "metadata": {},
   "outputs": [],
   "source": [
    "filename = 'all_hourly_data.h5'\n",
    "df_pats = pd.read_hdf(filename, 'patients')[[]]"
   ]
  },
  {
   "cell_type": "code",
   "execution_count": 303,
   "id": "e214b55d-4813-458f-bc30-0b6937da4f6c",
   "metadata": {},
   "outputs": [
    {
     "data": {
      "text/html": [
       "<div>\n",
       "<style scoped>\n",
       "    .dataframe tbody tr th:only-of-type {\n",
       "        vertical-align: middle;\n",
       "    }\n",
       "\n",
       "    .dataframe tbody tr th {\n",
       "        vertical-align: top;\n",
       "    }\n",
       "\n",
       "    .dataframe thead th {\n",
       "        text-align: right;\n",
       "    }\n",
       "</style>\n",
       "<table border=\"1\" class=\"dataframe\">\n",
       "  <thead>\n",
       "    <tr style=\"text-align: right;\">\n",
       "      <th></th>\n",
       "      <th></th>\n",
       "      <th></th>\n",
       "    </tr>\n",
       "    <tr>\n",
       "      <th>subject_id</th>\n",
       "      <th>hadm_id</th>\n",
       "      <th>icustay_id</th>\n",
       "    </tr>\n",
       "  </thead>\n",
       "  <tbody>\n",
       "    <tr>\n",
       "      <th>3</th>\n",
       "      <th>145834</th>\n",
       "      <th>211552</th>\n",
       "    </tr>\n",
       "    <tr>\n",
       "      <th>4</th>\n",
       "      <th>185777</th>\n",
       "      <th>294638</th>\n",
       "    </tr>\n",
       "    <tr>\n",
       "      <th>6</th>\n",
       "      <th>107064</th>\n",
       "      <th>228232</th>\n",
       "    </tr>\n",
       "    <tr>\n",
       "      <th>9</th>\n",
       "      <th>150750</th>\n",
       "      <th>220597</th>\n",
       "    </tr>\n",
       "    <tr>\n",
       "      <th>11</th>\n",
       "      <th>194540</th>\n",
       "      <th>229441</th>\n",
       "    </tr>\n",
       "  </tbody>\n",
       "</table>\n",
       "</div>"
      ],
      "text/plain": [
       "Empty DataFrame\n",
       "Columns: []\n",
       "Index: [(3, 145834, 211552), (4, 185777, 294638), (6, 107064, 228232), (9, 150750, 220597), (11, 194540, 229441)]"
      ]
     },
     "execution_count": 303,
     "metadata": {},
     "output_type": "execute_result"
    }
   ],
   "source": [
    "df_pats.head()"
   ]
  },
  {
   "cell_type": "markdown",
   "id": "cffc4941-3161-4316-b979-3f74ed4b6a65",
   "metadata": {},
   "source": [
    "Match index names"
   ]
  },
  {
   "cell_type": "code",
   "execution_count": 304,
   "id": "b49f92b2-3e78-4905-b797-729b05b594ad",
   "metadata": {},
   "outputs": [],
   "source": [
    "notes_icu.index.names = ['subject_id','hadm_id','icustay_id']"
   ]
  },
  {
   "cell_type": "code",
   "execution_count": 305,
   "id": "efbba312-bbfa-4e96-9b7a-43239522bcbb",
   "metadata": {},
   "outputs": [],
   "source": [
    "notes_icu = df_pats.join(notes_icu, how='left')"
   ]
  },
  {
   "cell_type": "code",
   "execution_count": 306,
   "id": "32502c0b-27dd-4962-8231-584117dd55f4",
   "metadata": {},
   "outputs": [
    {
     "data": {
      "text/html": [
       "<div>\n",
       "<style scoped>\n",
       "    .dataframe tbody tr th:only-of-type {\n",
       "        vertical-align: middle;\n",
       "    }\n",
       "\n",
       "    .dataframe tbody tr th {\n",
       "        vertical-align: top;\n",
       "    }\n",
       "\n",
       "    .dataframe thead th {\n",
       "        text-align: right;\n",
       "    }\n",
       "</style>\n",
       "<table border=\"1\" class=\"dataframe\">\n",
       "  <thead>\n",
       "    <tr style=\"text-align: right;\">\n",
       "      <th></th>\n",
       "      <th></th>\n",
       "      <th></th>\n",
       "      <th>INTIME</th>\n",
       "      <th>INDATE</th>\n",
       "      <th>OUTTIME</th>\n",
       "      <th>OUTDATE</th>\n",
       "      <th>CHARTDATE</th>\n",
       "      <th>CHARTTIME</th>\n",
       "      <th>CATEGORY</th>\n",
       "      <th>TEXT</th>\n",
       "    </tr>\n",
       "    <tr>\n",
       "      <th>subject_id</th>\n",
       "      <th>hadm_id</th>\n",
       "      <th>icustay_id</th>\n",
       "      <th></th>\n",
       "      <th></th>\n",
       "      <th></th>\n",
       "      <th></th>\n",
       "      <th></th>\n",
       "      <th></th>\n",
       "      <th></th>\n",
       "      <th></th>\n",
       "    </tr>\n",
       "  </thead>\n",
       "  <tbody>\n",
       "    <tr>\n",
       "      <th rowspan=\"5\" valign=\"top\">3</th>\n",
       "      <th rowspan=\"5\" valign=\"top\">145834</th>\n",
       "      <th>211552</th>\n",
       "      <td>2101-10-20 19:10:11</td>\n",
       "      <td>2101-10-20</td>\n",
       "      <td>2101-10-26 20:43:09</td>\n",
       "      <td>2101-10-26</td>\n",
       "      <td>2101-10-21</td>\n",
       "      <td>NaT</td>\n",
       "      <td>Echo</td>\n",
       "      <td>PATIENT/TEST INFORMATION:\\nIndication: S/P Car...</td>\n",
       "    </tr>\n",
       "    <tr>\n",
       "      <th>211552</th>\n",
       "      <td>2101-10-20 19:10:11</td>\n",
       "      <td>2101-10-20</td>\n",
       "      <td>2101-10-26 20:43:09</td>\n",
       "      <td>2101-10-26</td>\n",
       "      <td>2101-10-21</td>\n",
       "      <td>NaT</td>\n",
       "      <td>Echo</td>\n",
       "      <td>PATIENT/TEST INFORMATION:\\nIndication: Pericar...</td>\n",
       "    </tr>\n",
       "    <tr>\n",
       "      <th>211552</th>\n",
       "      <td>2101-10-20 19:10:11</td>\n",
       "      <td>2101-10-20</td>\n",
       "      <td>2101-10-26 20:43:09</td>\n",
       "      <td>2101-10-26</td>\n",
       "      <td>2101-10-21</td>\n",
       "      <td>NaT</td>\n",
       "      <td>Echo</td>\n",
       "      <td>PATIENT/TEST INFORMATION:\\nIndication: Left ve...</td>\n",
       "    </tr>\n",
       "    <tr>\n",
       "      <th>211552</th>\n",
       "      <td>2101-10-20 19:10:11</td>\n",
       "      <td>2101-10-20</td>\n",
       "      <td>2101-10-26 20:43:09</td>\n",
       "      <td>2101-10-26</td>\n",
       "      <td>2101-10-25</td>\n",
       "      <td>NaT</td>\n",
       "      <td>ECG</td>\n",
       "      <td>Technically difficult study\\nSinus rhythm with...</td>\n",
       "    </tr>\n",
       "    <tr>\n",
       "      <th>211552</th>\n",
       "      <td>2101-10-20 19:10:11</td>\n",
       "      <td>2101-10-20</td>\n",
       "      <td>2101-10-26 20:43:09</td>\n",
       "      <td>2101-10-26</td>\n",
       "      <td>2101-10-26</td>\n",
       "      <td>NaT</td>\n",
       "      <td>ECG</td>\n",
       "      <td>Sinus rhythm\\nP-R interval increased\\nLate R w...</td>\n",
       "    </tr>\n",
       "  </tbody>\n",
       "</table>\n",
       "</div>"
      ],
      "text/plain": [
       "                                           INTIME     INDATE  \\\n",
       "subject_id hadm_id icustay_id                                  \n",
       "3          145834  211552     2101-10-20 19:10:11 2101-10-20   \n",
       "                   211552     2101-10-20 19:10:11 2101-10-20   \n",
       "                   211552     2101-10-20 19:10:11 2101-10-20   \n",
       "                   211552     2101-10-20 19:10:11 2101-10-20   \n",
       "                   211552     2101-10-20 19:10:11 2101-10-20   \n",
       "\n",
       "                                          OUTTIME    OUTDATE  CHARTDATE  \\\n",
       "subject_id hadm_id icustay_id                                             \n",
       "3          145834  211552     2101-10-26 20:43:09 2101-10-26 2101-10-21   \n",
       "                   211552     2101-10-26 20:43:09 2101-10-26 2101-10-21   \n",
       "                   211552     2101-10-26 20:43:09 2101-10-26 2101-10-21   \n",
       "                   211552     2101-10-26 20:43:09 2101-10-26 2101-10-25   \n",
       "                   211552     2101-10-26 20:43:09 2101-10-26 2101-10-26   \n",
       "\n",
       "                              CHARTTIME CATEGORY  \\\n",
       "subject_id hadm_id icustay_id                      \n",
       "3          145834  211552           NaT     Echo   \n",
       "                   211552           NaT     Echo   \n",
       "                   211552           NaT     Echo   \n",
       "                   211552           NaT      ECG   \n",
       "                   211552           NaT      ECG   \n",
       "\n",
       "                                                                            TEXT  \n",
       "subject_id hadm_id icustay_id                                                     \n",
       "3          145834  211552      PATIENT/TEST INFORMATION:\\nIndication: S/P Car...  \n",
       "                   211552      PATIENT/TEST INFORMATION:\\nIndication: Pericar...  \n",
       "                   211552      PATIENT/TEST INFORMATION:\\nIndication: Left ve...  \n",
       "                   211552      Technically difficult study\\nSinus rhythm with...  \n",
       "                   211552      Sinus rhythm\\nP-R interval increased\\nLate R w...  "
      ]
     },
     "execution_count": 306,
     "metadata": {},
     "output_type": "execute_result"
    }
   ],
   "source": [
    "notes_icu.head()"
   ]
  },
  {
   "cell_type": "markdown",
   "id": "8cae3d80-7c7f-49e0-ab1d-9cfcb0ee13e5",
   "metadata": {},
   "source": [
    "### Preprocess text"
   ]
  },
  {
   "cell_type": "markdown",
   "id": "d336803e-769f-45f6-a05b-cd228362907e",
   "metadata": {},
   "source": [
    "remove newline characters"
   ]
  },
  {
   "cell_type": "code",
   "execution_count": 307,
   "id": "be8f4421-edcd-4fe0-abf8-8ff3aca8abed",
   "metadata": {},
   "outputs": [],
   "source": [
    "notes_icu_pre = notes_icu.copy()"
   ]
  },
  {
   "cell_type": "code",
   "execution_count": 346,
   "id": "bf7daaa6-8230-4c94-9aa4-2902e563b320",
   "metadata": {},
   "outputs": [],
   "source": [
    "def prepare_text(t):\n",
    "    t_pre = re.sub('(\\n+|\\.|\\?\\!)', ' [SEP] ', t)\n",
    "    t_pre = re.sub('\\s+', ' ', t_pre)\n",
    "    t_pre = re.sub('\\s(\\[SEP\\]\\s){2,}', ' [SEP] ', t_pre)\n",
    "    t_pre = t_pre.strip()\n",
    "    t_pre = re.sub('[^a-zA-Z0-9_\\[\\] ]', '', t_pre)\n",
    "    \n",
    "    return t_pre\n",
    "\n",
    "notes_icu_pre.TEXT = notes_icu_pre.TEXT.map(lambda t: t if pd.isnull(t) else prepare_text(t))"
   ]
  },
  {
   "cell_type": "code",
   "execution_count": 347,
   "id": "57a13328-46e6-456f-adcb-a51ae7e821ab",
   "metadata": {},
   "outputs": [
    {
     "data": {
      "text/plain": [
       "'PATIENTTEST INFORMATION [SEP] Indication SP Cardiac arrest [SEP] RO Pericardial effusion [SEP] Height in 69 [SEP] Weight lb 150 [SEP] BSA m2 1 [SEP] 83 m2 [SEP] BP mm Hg 8540 [SEP] Status Inpatient [SEP] DateTime [21011021] at 1030 [SEP] Test Portable TTEComplete [SEP] Doppler Complete pulse and color flow [SEP] Contrast None [SEP] Technical Quality Suboptimal [SEP] INTERPRETATION [SEP] Findings [SEP] LEFT ATRIUM The left atrium is normal in size [SEP] RIGHT ATRIUMINTERATRIAL SEPTUM The right atrium is normal in size [SEP] LEFT VENTRICLE Left ventricular wall thicknesses are normal [SEP] The left [SEP] ventricular cavity size is normal [SEP] There is severe regional left ventricular [SEP] systolic dysfunction [SEP] Overall left ventricular systolic function is severely [SEP] depressed [SEP] RIGHT VENTRICLE Right ventricular chamber size and free wall motion are [SEP] normal [SEP] The right ventricular wall thickness is normal [SEP] Right ventricular [SEP] chamber size is normal [SEP] Right ventricular systolic function is normal [SEP] AORTIC VALVE The aortic valve is not well seen [SEP] MITRAL VALVE The mitral valve leaflets are mildly thickened [SEP] There is mild [SEP] mitral annular calcification [SEP] PERICARDIUM There is no pericardial effusion [SEP] GENERAL COMMENTS Image quality was suboptimal [SEP] Conclusions [SEP] Limited study [SEP] No color doppler was performed [SEP] The left atrium is normal in [SEP] size [SEP] Left ventricular wall thicknesses are normal [SEP] The left ventricular [SEP] cavity size is normal [SEP] There is severe regional left ventricular systolic [SEP] dysfunction with mid and distal LV akinesis amd reatove sparing of the base [SEP] of the LV [SEP] Overall left ventricular systolic function is severely depressed [SEP] Right ventricular chamber size and free wall motion are normal [SEP] Right [SEP] ventricular chamber size is normal [SEP] Right ventricular systolic function is [SEP] hard to assess but is probably normal [SEP] The aortic valve is not well seen [SEP] The [SEP] mitral valve leaflets are mildly thickened [SEP] There is no pericardial effusion [SEP]'"
      ]
     },
     "execution_count": 347,
     "metadata": {},
     "output_type": "execute_result"
    }
   ],
   "source": [
    "sample_text = notes_icu_pre.TEXT.iloc[0]\n",
    "sample_text"
   ]
  },
  {
   "cell_type": "code",
   "execution_count": null,
   "id": "3ad1a912-2e8c-4145-813f-007fb4202801",
   "metadata": {},
   "outputs": [],
   "source": []
  }
 ],
 "metadata": {
  "kernelspec": {
   "display_name": "Research",
   "language": "python",
   "name": "research"
  },
  "language_info": {
   "codemirror_mode": {
    "name": "ipython",
    "version": 3
   },
   "file_extension": ".py",
   "mimetype": "text/x-python",
   "name": "python",
   "nbconvert_exporter": "python",
   "pygments_lexer": "ipython3",
   "version": "3.10.7"
  }
 },
 "nbformat": 4,
 "nbformat_minor": 5
}
