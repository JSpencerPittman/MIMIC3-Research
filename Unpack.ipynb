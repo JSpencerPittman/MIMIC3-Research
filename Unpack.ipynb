{
 "cells": [
  {
   "cell_type": "code",
   "execution_count": 1,
   "id": "fb71276b-f193-4e3b-8412-3d827f3cc6d8",
   "metadata": {},
   "outputs": [],
   "source": [
    "import h5py\n",
    "\n",
    "filename = 'all_hourly_data.h5'\n",
    "\n",
    "h5 = h5py.File(filename,'r')"
   ]
  },
  {
   "cell_type": "code",
   "execution_count": 4,
   "id": "1946a09a-a8b3-40b0-b432-0c7c554d7897",
   "metadata": {},
   "outputs": [],
   "source": [
    "import pandas as pd\n",
    "import numpy as np"
   ]
  },
  {
   "cell_type": "code",
   "execution_count": 5,
   "id": "b722581f-52ec-485c-acf9-4a661b59fe08",
   "metadata": {},
   "outputs": [
    {
     "name": "stdout",
     "output_type": "stream",
     "text": [
      "<KeysViewHDF5 ['codes', 'interventions', 'patients', 'vitals_labs', 'vitals_labs_mean']>\n"
     ]
    }
   ],
   "source": [
    "print(h5.keys())"
   ]
  },
  {
   "cell_type": "code",
   "execution_count": 11,
   "id": "1c11ada0-64ff-401c-a413-b348471218d1",
   "metadata": {},
   "outputs": [],
   "source": [
    "df_codes = pd.read_hdf(filename,'codes')\n",
    "df_intervention = pd.read_hdf(filename,'interventions')\n",
    "df_pats = pd.read_hdf(filename,'patients')\n",
    "df_vitals = pd.read_hdf(filename,'vitals_labs')\n",
    "df_vital_means = pd.read_hdf(filename,'vitals_labs_mean')"
   ]
  },
  {
   "cell_type": "code",
   "execution_count": 16,
   "id": "55b832ed-7f1a-45a4-b836-7231f7759860",
   "metadata": {},
   "outputs": [
    {
     "data": {
      "text/html": [
       "<div>\n",
       "<style scoped>\n",
       "    .dataframe tbody tr th:only-of-type {\n",
       "        vertical-align: middle;\n",
       "    }\n",
       "\n",
       "    .dataframe tbody tr th {\n",
       "        vertical-align: top;\n",
       "    }\n",
       "\n",
       "    .dataframe thead th {\n",
       "        text-align: right;\n",
       "    }\n",
       "</style>\n",
       "<table border=\"1\" class=\"dataframe\">\n",
       "  <thead>\n",
       "    <tr style=\"text-align: right;\">\n",
       "      <th></th>\n",
       "      <th></th>\n",
       "      <th></th>\n",
       "      <th></th>\n",
       "      <th>icd9_codes</th>\n",
       "    </tr>\n",
       "    <tr>\n",
       "      <th>subject_id</th>\n",
       "      <th>hadm_id</th>\n",
       "      <th>icustay_id</th>\n",
       "      <th>hours_in</th>\n",
       "      <th></th>\n",
       "    </tr>\n",
       "  </thead>\n",
       "  <tbody>\n",
       "    <tr>\n",
       "      <th rowspan=\"5\" valign=\"top\">3</th>\n",
       "      <th rowspan=\"5\" valign=\"top\">145834</th>\n",
       "      <th rowspan=\"5\" valign=\"top\">211552</th>\n",
       "      <th>0</th>\n",
       "      <td>[0389, 78559, 5849, 4275, 41071, 4280, 6826, 4...</td>\n",
       "    </tr>\n",
       "    <tr>\n",
       "      <th>1</th>\n",
       "      <td>[0389, 78559, 5849, 4275, 41071, 4280, 6826, 4...</td>\n",
       "    </tr>\n",
       "    <tr>\n",
       "      <th>2</th>\n",
       "      <td>[0389, 78559, 5849, 4275, 41071, 4280, 6826, 4...</td>\n",
       "    </tr>\n",
       "    <tr>\n",
       "      <th>3</th>\n",
       "      <td>[0389, 78559, 5849, 4275, 41071, 4280, 6826, 4...</td>\n",
       "    </tr>\n",
       "    <tr>\n",
       "      <th>4</th>\n",
       "      <td>[0389, 78559, 5849, 4275, 41071, 4280, 6826, 4...</td>\n",
       "    </tr>\n",
       "    <tr>\n",
       "      <th>...</th>\n",
       "      <th>...</th>\n",
       "      <th>...</th>\n",
       "      <th>...</th>\n",
       "      <td>...</td>\n",
       "    </tr>\n",
       "    <tr>\n",
       "      <th rowspan=\"5\" valign=\"top\">99999</th>\n",
       "      <th rowspan=\"5\" valign=\"top\">113369</th>\n",
       "      <th rowspan=\"5\" valign=\"top\">246512</th>\n",
       "      <th>22</th>\n",
       "      <td>[75612, 7861, 4019, 25000, 4139]</td>\n",
       "    </tr>\n",
       "    <tr>\n",
       "      <th>23</th>\n",
       "      <td>[75612, 7861, 4019, 25000, 4139]</td>\n",
       "    </tr>\n",
       "    <tr>\n",
       "      <th>24</th>\n",
       "      <td>[75612, 7861, 4019, 25000, 4139]</td>\n",
       "    </tr>\n",
       "    <tr>\n",
       "      <th>25</th>\n",
       "      <td>[75612, 7861, 4019, 25000, 4139]</td>\n",
       "    </tr>\n",
       "    <tr>\n",
       "      <th>26</th>\n",
       "      <td>[75612, 7861, 4019, 25000, 4139]</td>\n",
       "    </tr>\n",
       "  </tbody>\n",
       "</table>\n",
       "<p>2200954 rows × 1 columns</p>\n",
       "</div>"
      ],
      "text/plain": [
       "                                                                               icd9_codes\n",
       "subject_id hadm_id icustay_id hours_in                                                   \n",
       "3          145834  211552     0         [0389, 78559, 5849, 4275, 41071, 4280, 6826, 4...\n",
       "                              1         [0389, 78559, 5849, 4275, 41071, 4280, 6826, 4...\n",
       "                              2         [0389, 78559, 5849, 4275, 41071, 4280, 6826, 4...\n",
       "                              3         [0389, 78559, 5849, 4275, 41071, 4280, 6826, 4...\n",
       "                              4         [0389, 78559, 5849, 4275, 41071, 4280, 6826, 4...\n",
       "...                                                                                   ...\n",
       "99999      113369  246512     22                         [75612, 7861, 4019, 25000, 4139]\n",
       "                              23                         [75612, 7861, 4019, 25000, 4139]\n",
       "                              24                         [75612, 7861, 4019, 25000, 4139]\n",
       "                              25                         [75612, 7861, 4019, 25000, 4139]\n",
       "                              26                         [75612, 7861, 4019, 25000, 4139]\n",
       "\n",
       "[2200954 rows x 1 columns]"
      ]
     },
     "execution_count": 16,
     "metadata": {},
     "output_type": "execute_result"
    }
   ],
   "source": [
    "df_codes"
   ]
  },
  {
   "cell_type": "code",
   "execution_count": null,
   "id": "8e0c7037-05b2-4028-983c-cde23eb616d5",
   "metadata": {},
   "outputs": [],
   "source": []
  }
 ],
 "metadata": {
  "kernelspec": {
   "display_name": "Research",
   "language": "python",
   "name": "research"
  },
  "language_info": {
   "codemirror_mode": {
    "name": "ipython",
    "version": 3
   },
   "file_extension": ".py",
   "mimetype": "text/x-python",
   "name": "python",
   "nbconvert_exporter": "python",
   "pygments_lexer": "ipython3",
   "version": "3.10.9"
  }
 },
 "nbformat": 4,
 "nbformat_minor": 5
}
